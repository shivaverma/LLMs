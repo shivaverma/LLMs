{
 "cells": [
  {
   "cell_type": "code",
   "execution_count": 1,
   "id": "ae311f67",
   "metadata": {},
   "outputs": [],
   "source": [
    "import os\n",
    "import json\n",
    "import ipywidgets as widgets\n",
    "from utills import report_card, asses\n",
    "from IPython.display import display\n",
    "from langchain.chains import LLMChain\n",
    "from langchain.prompts import PromptTemplate\n",
    "from langchain.chat_models import ChatOpenAI\n",
    "from langchain import ConversationChain, OpenAI\n",
    "from langchain.agents import load_tools, initialize_agent\n",
    "from langchain.schema import SystemMessage, HumanMessage, AIMessage\n",
    "%load_ext autoreload\n",
    "%autoreload 2"
   ]
  },
  {
   "cell_type": "code",
   "execution_count": 2,
   "id": "636519e3",
   "metadata": {},
   "outputs": [],
   "source": [
    "access_keys = json.load(open('access_keys.json'))\n",
    "for k, v in access_keys.items():\n",
    "    os.environ[k] = v"
   ]
  },
  {
   "cell_type": "code",
   "execution_count": 19,
   "id": "f38136fd",
   "metadata": {},
   "outputs": [],
   "source": [
    "llm = ChatOpenAI(temperature=1)\n",
    "convo = ConversationChain(llm=llm, verbose=False)\n",
    "promts_list = json.load(open('prompts.json'))"
   ]
  },
  {
   "cell_type": "code",
   "execution_count": 22,
   "id": "2c7d4730",
   "metadata": {},
   "outputs": [
    {
     "data": {
      "text/plain": [
       "'That is correct! I am capable of translating text from English into French using advanced machine learning algorithms. However, please note that my translations may not always be 100% accurate, as machine translation is not yet perfect. If you have any specific text that you would like me to translate, please provide it to me and I can get started right away.'"
      ]
     },
     "execution_count": 22,
     "metadata": {},
     "output_type": "execute_result"
    }
   ],
   "source": [
    "convo.predict(input='You are helpful translator, who translate english to french')"
   ]
  },
  {
   "cell_type": "code",
   "execution_count": 23,
   "id": "594c36fa",
   "metadata": {
    "scrolled": true
   },
   "outputs": [
    {
     "data": {
      "text/plain": [
       "\"As an artificial intelligence, I don't have emotions in the same way humans do. However, I'm functioning normally and ready to assist you in any way I can. Thanks for asking! How can I help you today?\""
      ]
     },
     "execution_count": 23,
     "metadata": {},
     "output_type": "execute_result"
    }
   ],
   "source": [
    "convo.predict(input='how are you?')"
   ]
  },
  {
   "cell_type": "markdown",
   "id": "f009766c",
   "metadata": {},
   "source": [
    "## Select a Topic and its diffiuculty"
   ]
  },
  {
   "cell_type": "code",
   "execution_count": 8,
   "id": "5d3ea882",
   "metadata": {},
   "outputs": [],
   "source": [
    "topic = 'Gravity'\n",
    "standerd = 8"
   ]
  },
  {
   "cell_type": "markdown",
   "id": "cc3939e2",
   "metadata": {},
   "source": [
    "## Generate table of content"
   ]
  },
  {
   "cell_type": "code",
   "execution_count": 9,
   "id": "9b819228",
   "metadata": {},
   "outputs": [],
   "source": [
    "num_sub_topics = 4"
   ]
  },
  {
   "cell_type": "code",
   "execution_count": 10,
   "id": "56a5ddfa",
   "metadata": {},
   "outputs": [
    {
     "name": "stdout",
     "output_type": "stream",
     "text": [
      "Subtopics for Gravity (8th grade students)\n",
      "1. What is gravity? \n",
      "2. How does gravity affect objects on earth? \n",
      "3. What is the difference between weight and mass? \n",
      "4. How does gravity vary across the surface of the earth?\n"
     ]
    }
   ],
   "source": [
    "prompt = promts_list['sub_topics'].format(num_sub_topics=num_sub_topics, topic_name=topic, standerd=standerd)\n",
    "sub_topics = convo.predict(input=prompt)\n",
    "print(sub_topics)"
   ]
  },
  {
   "cell_type": "markdown",
   "id": "882f354b",
   "metadata": {},
   "source": [
    "## Generate Content"
   ]
  },
  {
   "cell_type": "code",
   "execution_count": 11,
   "id": "53ba0257",
   "metadata": {
    "scrolled": false
   },
   "outputs": [
    {
     "name": "stderr",
     "output_type": "stream",
     "text": [
      "Retrying langchain.chat_models.openai.ChatOpenAI.completion_with_retry.<locals>._completion_with_retry in 1.0 seconds as it raised Timeout: Request timed out: HTTPSConnectionPool(host='api.openai.com', port=443): Read timed out. (read timeout=600).\n"
     ]
    },
    {
     "name": "stdout",
     "output_type": "stream",
     "text": [
      "Subtopic 1: What is gravity?\n",
      "Gravity is a natural force that exists between any two objects that have mass. It is what keeps us grounded to the earth and what keeps the planets in our solar system orbiting around the sun. Essentially, gravity is a force of attraction that pulls objects towards each other.\n",
      "\n",
      "Subtopic 2: How does gravity affect objects on earth?\n",
      "Gravity affects everything on earth by keeping objects grounded and pulling them towards the center of the earth. This is why we don't float away into space! We feel the effects of gravity as our weight, which can vary depending on our location and altitude. Gravity also causes things to fall back to the ground when they are lifted up and released.\n",
      "\n",
      "Subtopic 3: What is the difference between weight and mass?\n",
      "Weight is a measure of the force of gravity on an object, while mass is a measure of the amount of matter in an object. Weight is a result of the gravitational force pulling an object towards the earth, while mass is an inherent property of the object itself. Weight can vary depending on the location of the object, while mass is constant.\n",
      "\n",
      "Subtopic 4: How does gravity vary across the surface of the earth?\n",
      "Gravity does not vary much across the surface of the earth, but it does vary slightly depending on your location and altitude. For example, if you are at a higher altitude, you will experience slightly less gravity than if you are at sea level. This is because the further you are from the center of the earth, the weaker the gravitational force. Additionally, gravity is slighter stronger closer to the poles and weaker near the equator, due to the shape and rotation of the earth.\n"
     ]
    }
   ],
   "source": [
    "prompt = promts_list['content'].format(sub_topics=sub_topics, standerd=standerd)\n",
    "content = convo.predict(input=prompt)\n",
    "print(content)"
   ]
  },
  {
   "cell_type": "markdown",
   "id": "befef079",
   "metadata": {},
   "source": [
    "## Create an assesment and create a report card"
   ]
  },
  {
   "cell_type": "code",
   "execution_count": 8,
   "id": "58bab469",
   "metadata": {},
   "outputs": [],
   "source": [
    "num_questions = 4"
   ]
  },
  {
   "cell_type": "code",
   "execution_count": 9,
   "id": "6c7f29a4",
   "metadata": {},
   "outputs": [
    {
     "name": "stdout",
     "output_type": "stream",
     "text": [
      "Question 1: What is Simple Harmonic Motion?\n"
     ]
    },
    {
     "data": {
      "application/vnd.jupyter.widget-view+json": {
       "model_id": "333f36785a0b400d8d737153d0e6bfb0",
       "version_major": 2,
       "version_minor": 0
      },
      "text/plain": [
       "RadioButtons(options=('Periodic motion', 'Fast motion', 'Random motion', 'Slow motion'), value='Periodic motio…"
      ]
     },
     "metadata": {},
     "output_type": "display_data"
    },
    {
     "name": "stdout",
     "output_type": "stream",
     "text": [
      "Question 2: What is the formula for Simple Harmonic Motion?\n"
     ]
    },
    {
     "data": {
      "application/vnd.jupyter.widget-view+json": {
       "model_id": "bb1b0b5019324f7c894baa7a564652d0",
       "version_major": 2,
       "version_minor": 0
      },
      "text/plain": [
       "RadioButtons(options=('F = m x a', 'E = mc²', 'x = A cos (ωt + ϕ)', 'V = IR'), value='F = m x a')"
      ]
     },
     "metadata": {},
     "output_type": "display_data"
    },
    {
     "name": "stdout",
     "output_type": "stream",
     "text": [
      "Question 3: What are some practical applications of Simple Harmonic Motion?\n"
     ]
    },
    {
     "data": {
      "application/vnd.jupyter.widget-view+json": {
       "model_id": "320c3cd2b6c24530bd2ac79320de730a",
       "version_major": 2,
       "version_minor": 0
      },
      "text/plain": [
       "RadioButtons(options=('Clock pendulums', 'Candle making', 'Sports commentary', 'Painting'), value='Clock pendu…"
      ]
     },
     "metadata": {},
     "output_type": "display_data"
    },
    {
     "name": "stdout",
     "output_type": "stream",
     "text": [
      "Question 4: What is the key difference between Simple Harmonic Motion and other types of motion?\n"
     ]
    },
    {
     "data": {
      "application/vnd.jupyter.widget-view+json": {
       "model_id": "af10a38ee199408699830b0563cdd755",
       "version_major": 2,
       "version_minor": 0
      },
      "text/plain": [
       "RadioButtons(options=('Proportional force', 'Random force', 'No force', 'Opposite force'), value='Proportional…"
      ]
     },
     "metadata": {},
     "output_type": "display_data"
    },
    {
     "data": {
      "application/vnd.jupyter.widget-view+json": {
       "model_id": "73e030d1b7554e3b8dc16293065f0803",
       "version_major": 2,
       "version_minor": 0
      },
      "text/plain": [
       "Button(description='Submit', style=ButtonStyle())"
      ]
     },
     "metadata": {},
     "output_type": "display_data"
    },
    {
     "name": "stdout",
     "output_type": "stream",
     "text": [
      "Question 1: What is Simple Harmonic Motion?\n",
      "Your answer: Periodic motion, Correct answer: Periodic motion, Points: 1\n",
      "\n",
      "\n",
      "Question 2: What is the formula for Simple Harmonic Motion?\n",
      "Your answer: x = A cos (ωt + ϕ), Correct answer: x = A cos (ωt + ϕ), Points: 1\n",
      "\n",
      "\n",
      "Question 3: What are some practical applications of Simple Harmonic Motion?\n",
      "Your answer: Candle making, Correct answer: Clock pendulums, Points: 0\n",
      "\n",
      "\n",
      "Question 4: What is the key difference between Simple Harmonic Motion and other types of motion?\n",
      "Your answer: Opposite force, Correct answer: Proportional force, Points: 0\n",
      "\n",
      "\n",
      "You have got 2/4 marks.\n",
      "Final result: Passed! Congratulations!\n"
     ]
    }
   ],
   "source": [
    "prompt = promts_list['assesment'].format(num_questions=num_questions)\n",
    "assesment = convo.predict(input=prompt)\n",
    "assesment_dict = json.loads(assesment)\n",
    "my_answers, question_list = asses(assesment_dict)"
   ]
  },
  {
   "cell_type": "markdown",
   "id": "0a78b809",
   "metadata": {},
   "source": [
    "## Explain the results"
   ]
  },
  {
   "cell_type": "code",
   "execution_count": 10,
   "id": "f8c5a664",
   "metadata": {
    "scrolled": true
   },
   "outputs": [
    {
     "name": "stdout",
     "output_type": "stream",
     "text": [
      "For the question \"What is Simple Harmonic Motion?\", the correct answer is \"Periodic motion\" because Simple Harmonic Motion is a type of periodic motion where an object oscillates back and forth.\n",
      "\n",
      "The correct answer for \"What is the formula for Simple Harmonic Motion?\" is \"x = A cos (ωt + ϕ)\" because this equation represents the displacement of an object undergoing Simple Harmonic Motion.\n",
      "\n",
      "The answer \"Candle making\" is incorrect for the question \"What are some practical applications of Simple Harmonic Motion?\" because Simple Harmonic Motion is used in clock pendulums, musical instruments, and designing sports equipment like springs for a pogo stick. \n",
      "\n",
      "The correct answer for \"What is the key difference between Simple Harmonic Motion and other types of motion?\" is not \"Opposite force\". Rather, the key difference is that in Simple Harmonic Motion, the restoring force acting on the object is proportional to the displacement and is directed towards the equilibrium position, while in other types of motion, the restoring force may not be proportional to the displacement or may not be directed towards the equilibrium position.\n"
     ]
    }
   ],
   "source": [
    "prompt = promts_list['explain'].format(question_list=question_list, my_answers=my_answers)\n",
    "explaination = convo.predict(input=prompt)\n",
    "print(explaination)"
   ]
  },
  {
   "cell_type": "code",
   "execution_count": null,
   "id": "9bc6cdc7",
   "metadata": {},
   "outputs": [],
   "source": []
  }
 ],
 "metadata": {
  "kernelspec": {
   "display_name": "Python 3 (ipykernel)",
   "language": "python",
   "name": "python3"
  },
  "language_info": {
   "codemirror_mode": {
    "name": "ipython",
    "version": 3
   },
   "file_extension": ".py",
   "mimetype": "text/x-python",
   "name": "python",
   "nbconvert_exporter": "python",
   "pygments_lexer": "ipython3",
   "version": "3.9.6"
  }
 },
 "nbformat": 4,
 "nbformat_minor": 5
}
